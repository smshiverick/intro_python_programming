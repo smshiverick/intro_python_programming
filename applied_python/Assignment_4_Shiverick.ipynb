{
 "cells": [
  {
   "cell_type": "markdown",
   "metadata": {},
   "source": [
    "---\n",
    "\n",
    "_You are currently looking at **version 1.1** of this notebook. To download notebooks and datafiles, as well as get help on Jupyter notebooks in the Coursera platform, visit the [Jupyter Notebook FAQ](https://www.coursera.org/learn/python-data-analysis/resources/0dhYG) course resource._\n",
    "\n",
    "---"
   ]
  },
  {
   "cell_type": "code",
   "execution_count": 1,
   "metadata": {
    "collapsed": true
   },
   "outputs": [],
   "source": [
    "import re\n",
    "import pandas as pd\n",
    "import numpy as np\n",
    "from scipy.stats import ttest_ind"
   ]
  },
  {
   "cell_type": "markdown",
   "metadata": {},
   "source": [
    "# Assignment 4 - Hypothesis Testing\n",
    "This assignment requires more individual learning than previous assignments - you are encouraged to check out the [pandas documentation](http://pandas.pydata.org/pandas-docs/stable/) to find functions or methods you might not have used yet, or ask questions on [Stack Overflow](http://stackoverflow.com/) and tag them as pandas and python related. And of course, the discussion forums are open for interaction with your peers and the course staff.\n",
    "\n",
    "Definitions:\n",
    "* A _quarter_ is a specific three month period, Q1 is January through March, Q2 is April through June, Q3 is July through September, Q4 is October through December.\n",
    "* A _recession_ is defined as starting with two consecutive quarters of GDP decline, and ending with two consecutive quarters of GDP growth.\n",
    "* A _recession bottom_ is the quarter within a recession which had the lowest GDP.\n",
    "* A _university town_ is a city which has a high percentage of university students compared to the total population of the city.\n",
    "\n",
    "**Hypothesis**: University towns have their mean housing prices less effected by recessions. Run a t-test to compare the ratio of the mean price of houses in university towns the quarter before the recession starts compared to the recession bottom. (`price_ratio=quarter_before_recession/recession_bottom`)\n",
    "\n",
    "The following data files are available for this assignment:\n",
    "* From the [Zillow research data site](http://www.zillow.com/research/data/) there is housing data for the United States. In particular the datafile for [all homes at a city level](http://files.zillowstatic.com/research/public/City/City_Zhvi_AllHomes.csv), ```City_Zhvi_AllHomes.csv```, has median home sale prices at a fine grained level.\n",
    "* From the Wikipedia page on college towns is a list of [university towns in the United States](https://en.wikipedia.org/wiki/List_of_college_towns#College_towns_in_the_United_States) which has been copy and pasted into the file ```university_towns.txt```.\n",
    "* From Bureau of Economic Analysis, US Department of Commerce, the [GDP over time](http://www.bea.gov/national/index.htm#gdp) of the United States in current dollars (use the chained value in 2009 dollars), in quarterly intervals, in the file ```gdplev.xls```. For this assignment, only look at GDP data from the first quarter of 2000 onward.\n",
    "\n",
    "Each function in this assignment below is worth 10%, with the exception of ```run_ttest()```, which is worth 50%."
   ]
  },
  {
   "cell_type": "code",
   "execution_count": 2,
   "metadata": {
    "collapsed": false
   },
   "outputs": [],
   "source": [
    "# Use this dictionary to map state names to two letter acronyms\n",
    "states = {'OH': 'Ohio', 'KY': 'Kentucky', 'AS': 'American Samoa', 'NV': 'Nevada', 'WY': 'Wyoming', 'NA': 'National', 'AL': 'Alabama', 'MD': 'Maryland', 'AK': 'Alaska', 'UT': 'Utah', 'OR': 'Oregon', 'MT': 'Montana', 'IL': 'Illinois', 'TN': 'Tennessee', 'DC': 'District of Columbia', 'VT': 'Vermont', 'ID': 'Idaho', 'AR': 'Arkansas', 'ME': 'Maine', 'WA': 'Washington', 'HI': 'Hawaii', 'WI': 'Wisconsin', 'MI': 'Michigan', 'IN': 'Indiana', 'NJ': 'New Jersey', 'AZ': 'Arizona', 'GU': 'Guam', 'MS': 'Mississippi', 'PR': 'Puerto Rico', 'NC': 'North Carolina', 'TX': 'Texas', 'SD': 'South Dakota', 'MP': 'Northern Mariana Islands', 'IA': 'Iowa', 'MO': 'Missouri', 'CT': 'Connecticut', 'WV': 'West Virginia', 'SC': 'South Carolina', 'LA': 'Louisiana', 'KS': 'Kansas', 'NY': 'New York', 'NE': 'Nebraska', 'OK': 'Oklahoma', 'FL': 'Florida', 'CA': 'California', 'CO': 'Colorado', 'PA': 'Pennsylvania', 'DE': 'Delaware', 'NM': 'New Mexico', 'RI': 'Rhode Island', 'MN': 'Minnesota', 'VI': 'Virgin Islands', 'NH': 'New Hampshire', 'MA': 'Massachusetts', 'GA': 'Georgia', 'ND': 'North Dakota', 'VA': 'Virginia'}"
   ]
  },
  {
   "cell_type": "code",
   "execution_count": 3,
   "metadata": {
    "collapsed": false
   },
   "outputs": [],
   "source": [
    "# Return DataFrame of towns and states from list in following format: \n",
    "# DataFrame( [ [\"Michigan\", \"Ann Arbor\"], [\"Michigan\", \"Yipsilanti\"] ], columns=[\"State\", \"RegionName\"]  )\n",
    "# Follow steps in data cleaning below:\n",
    "\n",
    "def get_list_of_university_towns():\n",
    "    #1. For \"State\", removing characters from \"[\" to the end.\n",
    "    #2. For \"RegionName\", when applicable, removing every character from \" (\" to the end.\n",
    "    #3. Depending on how you read the data, you may need to remove newline character '\\n'.\n",
    "    with open('university_towns.txt') as file: \n",
    "        data = []\n",
    "        for line in file:\n",
    "            data.append(line[:-1])\n",
    "\n",
    "    state_town = []        \n",
    "    for line in data:\n",
    "        if line[-6:] == '[edit]':\n",
    "            state = line[:-6]\n",
    "        \n",
    "        elif '(' in line:\n",
    "            town = line[:line.index('(')-1]\n",
    "            state_town.append([state,town])\n",
    "\n",
    "        else:\n",
    "            town = line\n",
    "            state_town.append([state,town])  \n",
    "\n",
    "    univ_towns = pd.DataFrame(state_town,columns=[\"State\", \"RegionName\"])\n",
    "    \n",
    "    return univ_towns"
   ]
  },
  {
   "cell_type": "code",
   "execution_count": 6,
   "metadata": {
    "collapsed": false
   },
   "outputs": [],
   "source": [
    "def get_recession_start():\n",
    "    # Recession start defined as beginning of two quarter period in which both quarters have GDP decline\n",
    "    # Load the gdp data file, skip header rows\n",
    "    df = pd.read_excel('gdplev.xls')\n",
    "    gdp = df.drop(range(7))\n",
    "    # Select columns for Quarter, GDP chained value in 2009 dollars), in quarterly intervals \n",
    "    gdp = gdp[['Unnamed: 4', 'Unnamed: 6']]\n",
    "    gdp.columns = ['Quarter', 'GDP']\n",
    "    # Select GDP data from first quarter of 2000 onward.\n",
    "    gdp = gdp.loc[219:].reset_index(drop=True)\n",
    "    gdp['GDP'] = pd.to_numeric(gdp['GDP'])\n",
    "\n",
    "    # compute difference between a value and its predecessor in a series using\n",
    "    #df['diff'] = df['gdp'].diff()\n",
    "    quarters = []\n",
    "    for i in range(len(gdp)-2):\n",
    "        if (gdp.iloc[i][1] > gdp.iloc[i+1][1]) and (gdp.iloc[i+1][1] > gdp.iloc[i+2][1]):\n",
    "            quarters.append(gdp.iloc[i][0])\n",
    "\n",
    "    #'''Returns year, quarter of recession start time as string value in a format such as 2005q3\n",
    "    return(quarters[1])"
   ]
  },
  {
   "cell_type": "code",
   "execution_count": 7,
   "metadata": {
    "collapsed": false
   },
   "outputs": [],
   "source": [
    "# Recession starts in 2008q3, find year, quarter at which gdp shows growth\n",
    "\n",
    "def get_recession_end():\n",
    "    df = pd.read_excel('gdplev.xls')\n",
    "    gdp = df.drop(range(7))\n",
    "    gdp = gdp[['Unnamed: 4', 'Unnamed: 6']]\n",
    "    gdp.columns = ['Quarter', 'GDP']\n",
    "    gdp = gdp.loc[219:].reset_index(drop=True)\n",
    "    gdp['GDP'] = pd.to_numeric(gdp['GDP'])\n",
    "\n",
    "    # New index from start of recession \n",
    "    start = get_recession_start()\n",
    "    start_index = gdp[gdp['Quarter'] == start].index.tolist()[0]\n",
    "    gdp = gdp.iloc[start_index:]\n",
    "\n",
    "    quarters = []\n",
    "    for i in range(2, len(gdp)):\n",
    "        if (gdp.iloc[i-2][1] < gdp.iloc[i-1][1]) and (gdp.iloc[i-1][1] < gdp.iloc[i][1]):\n",
    "            quarters.append(gdp.iloc[i][0])\n",
    "\n",
    "    # Returns year, quarter of recession end time as string value\n",
    "    return(quarters[0])"
   ]
  },
  {
   "cell_type": "code",
   "execution_count": 8,
   "metadata": {
    "collapsed": false
   },
   "outputs": [],
   "source": [
    "# Recession occurs between 2008q3 to 2009q4; find quarter in interval with lowest gdp  \n",
    "\n",
    "def get_recession_bottom():\n",
    "    df = pd.read_excel('gdplev.xls')\n",
    "    gdp = df.drop(range(7))\n",
    "    gdp = gdp[['Unnamed: 4', 'Unnamed: 6']]\n",
    "    gdp.columns = ['Quarter', 'GDP']\n",
    "    gdp = gdp.loc[219:].reset_index(drop=True)\n",
    "    gdp['GDP'] = pd.to_numeric(gdp['GDP'])\n",
    "\n",
    "    start = get_recession_start()\n",
    "    start_index = gdp[gdp['Quarter'] == start].index.tolist()[0]\n",
    "    end = get_recession_end()\n",
    "    end_index = gdp[gdp['Quarter'] == end].index.tolist()[0]\n",
    "    gdp = gdp.iloc[start_index: end_index+1]\n",
    "\n",
    "    bottom = gdp['GDP'].min()\n",
    "    bottom_index = gdp[gdp['GDP'] == bottom].index.tolist()[0]-start_index\n",
    "    # Returns year, quarter of recession end time as string value\n",
    "    return(gdp.iloc[bottom_index]['Quarter'])"
   ]
  },
  {
   "cell_type": "code",
   "execution_count": 10,
   "metadata": {
    "collapsed": false
   },
   "outputs": [],
   "source": [
    "# Quarters are specific three month periods: Q1: Jan-March, Q2: Apr-June, Q3: July-Sept    \n",
    "# Generate new column names\n",
    "\n",
    "def new_col_names():\n",
    "    year = list(range(2000,2017))\n",
    "    quart = ['q1', 'q2', 'q3', 'q4']\n",
    "    quart_year = []\n",
    "    for i in year:\n",
    "        for j in quart:\n",
    "            quart_year.append((str(i)+j))\n",
    "    return quart_year[:67]\n",
    "\n",
    "# Convert housing data to quarters and return mean values in DF\n",
    "\n",
    "def convert_housing_data_to_quarters():\n",
    "    # DF with columns for 2000q1 through 2016q3, should have multi-index in shape of [\"State\",\"RegionName\"].\n",
    "    homes = pd.read_csv('City_Zhvi_AllHomes.csv')\n",
    "    homes.drop(['Metro', 'CountyName', 'RegionID', 'SizeRank'], axis=1, inplace=True)\n",
    "    homes['State'] = homes['State'].map(states)\n",
    "    homes.set_index(['State', 'RegionName'], inplace=True)\n",
    "    \n",
    "    cols = list(homes.columns)\n",
    "    homes.drop(cols[0:45], axis=1, inplace=True)\n",
    "\n",
    "    # Quarters of year\n",
    "    quarters = [list(homes.columns)[x:x+3] for x in range(0, len(list(homes.columns)), 3)]\n",
    "    col_names = new_col_names()    \n",
    "    \n",
    "    for col,q in zip(col_names, quarters):\n",
    "        homes[col] = homes[q].mean(axis=1)\n",
    "    \n",
    "    homes = homes[col_names]\n",
    "    return(homes)"
   ]
  },
  {
   "cell_type": "code",
   "execution_count": 11,
   "metadata": {
    "collapsed": false
   },
   "outputs": [],
   "source": [
    "def run_ttest():\n",
    "    # Recession start = 2008q3, Recession bottom = 2009q2\n",
    "    start = get_recession_start()\n",
    "    bottom = get_recession_bottom()\n",
    "    data = convert_housing_data_to_quarters().copy()\n",
    "\n",
    "    # Create new data showing decline or growth of housing prices \n",
    "    # between the Recession start and Recession bottom. \n",
    "    recession = data.loc[:, '2008q3':'2009q4'] \n",
    "    recession = recession.reset_index()\n",
    "    recession['Difference'] = recession[start] - recession[bottom]\n",
    "\n",
    "    # Compare university town values to non-university towns values, \n",
    "    # Get list of university towns and use set to obtain unique values\n",
    "    univ_towns = get_list_of_university_towns()['RegionName']\n",
    "    univ_towns = set(univ_towns)\n",
    "\n",
    "    # Create column for grouping cities as university towns\n",
    "    def is_univ_town(row):\n",
    "        if row['RegionName'] in univ_towns:\n",
    "            return 1\n",
    "        else:\n",
    "            return 0\n",
    "    recession['UnivTown'] = recession.apply(is_univ_town, axis = 1)\n",
    "\n",
    "    # Group towns as univ_towns and non_univ towns:\n",
    "    uni_town = recession[recession['UnivTown']==1].loc[:,\"Difference\"].dropna()\n",
    "    non_univ = recession[recession['UnivTown']==0].loc[:,\"Difference\"].dropna()\n",
    "\n",
    "    def better():\n",
    "        if non_univ.mean() < uni_town.mean():\n",
    "            return 'non-univesity town'\n",
    "        else:\n",
    "            return 'university town'\n",
    "\n",
    "    # Conduct ttest to btain p-value, determine whether null hypothesis can be rejected \n",
    "    p_val = list(ttest_ind(non_univ, uni_town))[1]    \n",
    "    p_val    \n",
    "    \n",
    "    if p_val < 0.01:\n",
    "        different = True\n",
    "    else:\n",
    "        different = False    \n",
    "\n",
    "    result = (different, p_val, better())\n",
    "\n",
    "    # The variable p should be equal to the exact p value returned from scipy.stats.ttest_ind(). \n",
    "    # The value for better should be either \"university town\" or \"non-university town\", \n",
    "    # depending on which has a lower mean price ratio (which is equivilent to reduced market loss).\n",
    "    return(result)\n",
    "\n"
   ]
  },
  {
   "cell_type": "code",
   "execution_count": null,
   "metadata": {
    "collapsed": true
   },
   "outputs": [],
   "source": []
  }
 ],
 "metadata": {
  "coursera": {
   "course_slug": "python-data-analysis",
   "graded_item_id": "Il9Fx",
   "launcher_item_id": "TeDW0",
   "part_id": "WGlun"
  },
  "kernelspec": {
   "display_name": "Python 3",
   "language": "python",
   "name": "python3"
  },
  "language_info": {
   "codemirror_mode": {
    "name": "ipython",
    "version": 3
   },
   "file_extension": ".py",
   "mimetype": "text/x-python",
   "name": "python",
   "nbconvert_exporter": "python",
   "pygments_lexer": "ipython3",
   "version": "3.5.2"
  }
 },
 "nbformat": 4,
 "nbformat_minor": 0
}
