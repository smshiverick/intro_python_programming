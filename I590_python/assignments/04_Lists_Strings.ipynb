{
 "cells": [
  {
   "cell_type": "markdown",
   "metadata": {},
   "source": [
    "### I590: Python - Professor Vel Malbasa (Spring 2017) \n",
    "\n",
    "### Assignment 4: Lists and Strings\n",
    "#### Sean Shiverick  Feb 4 2017\n",
    "\n",
    "### Question 1 (25 points) \n",
    "#### Write a program that takes input numbers as a parameter and prints ‘True’ if input numbers are sorted in ascending order and ‘False’ otherwise.\n",
    "* Input: User inputs the numbers, one by one, separated by space (numbers can be a mixture of integer and decimal numbers).\n",
    "* Output: Program prints ‘True’ if input numbers are sorted, ‘False’ otherwise.\n",
    "```\n",
    "Example:\n",
    "Enter numbers separated by a space: 2 3 1 4\n",
    "False\n",
    "```"
   ]
  },
  {
   "cell_type": "code",
   "execution_count": 3,
   "metadata": {},
   "outputs": [
    {
     "name": "stdout",
     "output_type": "stream",
     "text": [
      "This program determines if numbers are sorted in ascending order.\n",
      "Enter numbers separated by a space: 12 3 4 2\n",
      "False\n"
     ]
    }
   ],
   "source": [
    "# Input: User inputs numbers, one by one, separated by space (integer and floats).\n",
    "# Output: Program prints ‘True’ if input numbers are sorted, ‘False’ otherwise.\n",
    "\n",
    "def n_ascending():\n",
    "    print(\"This program determines if numbers are sorted in ascending order.\")\n",
    "    numstr = input(\"Enter numbers separated by a space: \")\n",
    "    \n",
    "    # convert string to list of integers\n",
    "    nums = list(map(int, numstr.split(\" \")))\n",
    "    \n",
    "    if sorted(nums) == nums:\n",
    "        print(\"True\")\n",
    "    else:\n",
    "        print(\"False\")\n",
    "\n",
    "n_ascending()"
   ]
  },
  {
   "cell_type": "markdown",
   "metadata": {},
   "source": [
    "### Question 2 (25 points) Write a program that calculates the numeric value of a single name provided as input.\n",
    "The value of a name is determined by summing up the values of the letters of the name where ’a’ is 1, ’b’ is 2, ’c’ is 3 etc., up to ’z’ being 26. For example, the name “dog” would have the value 4+15+7 = 26. \n",
    "\n",
    "* Input: User inputs name (any lowercase alphabet characters from ‘a’ to ‘z’ without space, digits and special characters).\n",
    "* Output: Program prints the numeric integer value of entered name.\n",
    "```\n",
    "Example:\n",
    "Enter any name in lower case: john\n",
    "The numeric value of entered name is 47\n",
    "```"
   ]
  },
  {
   "cell_type": "code",
   "execution_count": 8,
   "metadata": {},
   "outputs": [
    {
     "name": "stdout",
     "output_type": "stream",
     "text": [
      "This program calculates the numeric value of a single name.\n",
      "Enter any name in lower case: sean\n",
      "\n",
      "39\n"
     ]
    }
   ],
   "source": [
    "# Input: User inputs name (lowercase alphabet characters from ‘a’ to ‘z’ \n",
    "# without space, digits, or special characters).\n",
    "# Output: Program prints the numeric integer value of entered name.\n",
    "\n",
    "def name_count():\n",
    "    print(\"This program calculates the numeric value of a single name.\")\n",
    "    name = input(\"Enter any name in lower case: \").lower()\n",
    "    sum = 0\n",
    "    print()\n",
    "    for ch in name:\n",
    "        sum = sum + ord(ch)-96\n",
    "    print(sum)\n",
    "    \n",
    "name_count()    "
   ]
  },
  {
   "cell_type": "markdown",
   "metadata": {},
   "source": [
    "### Question 3 (30 points) Write a program that prompts the user for a string, determines if the string is a palindrome and prints \"The string is palindrome\" or \"The string is not a palindrome.\" \n",
    "A palindrome is a word, phrase, or sequence that reads the same backwards as forwards. \n",
    "* Input: User inputs any string characters.\n",
    "* Output: If input string is a palindrome program prints ‘The string is a palindrome’ and prints ‘The string is not a palindrome’ otherwise.\n",
    "```\n",
    "Example:\n",
    "Enter a string to check: madam\n",
    "The string is a palindrome\n",
    "```\n",
    "#### Hints:\n",
    "In this question you will need to test if a character is the same as another one. You can use equality operator “==” which evaluates “True” if the left hand side is equal to the right hand side and “False” otherwise. In “if … then …else” statement, if the equality operator evaluates “True” the “then” statement is executed, otherwise “else” statement is executed.\n",
    "For example, the following code prints whether the value of variable a is equal to the value of variable b. Variables a and b can have values which are numbers, characters and even strings.\n",
    "```\n",
    "if a == b:\n",
    "print (\"a is equal to b\")\n",
    "else:\n",
    "print(\"a is NOT equal to b\")\n",
    "```"
   ]
  },
  {
   "cell_type": "code",
   "execution_count": 9,
   "metadata": {},
   "outputs": [
    {
     "name": "stdout",
     "output_type": "stream",
     "text": [
      "This program determines if a word is a palindrome.\n",
      "Enter a word (string) to check: tacocat\n",
      "The string is a palindrome.\n"
     ]
    }
   ],
   "source": [
    "# Input: User inputs any string characters.\n",
    "# Output: Prints \"The string is palindrome\" or \"The string is not a palindrome.\"\n",
    "\n",
    "def is_palindrome():\n",
    "    print(\"This program determines if a word is a palindrome.\")\n",
    "    a = str(input(\"Enter a word (string) to check: \"))\n",
    "    \n",
    "    # create inverse of the string\n",
    "    b = a[::-1]\n",
    "    \n",
    "    if a == b:\n",
    "        print(\"The string is a palindrome.\")\n",
    "    else: \n",
    "        print(\"The string is not a palindrome.\")\n",
    "    \n",
    "is_palindrome()"
   ]
  },
  {
   "cell_type": "markdown",
   "metadata": {},
   "source": [
    "### Question 4 (30 points) Write a program that prompts the user for a string, calculates and prints the number of vowels and consonants in the string.\n",
    "* Input: User inputs a string of characters.\n",
    "* Output: Program prints the count of vowels and consonants in the string.\n",
    "\n",
    "```\n",
    "Example:\n",
    "Enter a sentence or a word: A quick brown fox jumps over the lazy dog\n",
    "Number of vowels in the string: 11\n",
    "Number of consonants in the string: 22\n",
    "```\n",
    "\n",
    "Hints:\n",
    "* Your sentence or a word might contain a mixture of upper and lower case alphabets. You can change your sentence or word to lower by using “lower()” method.\n",
    "* A way to solve this problem is to first create a string of vowels and a string of consonants. Than take a character from the input string and check if it is in one or in the other string.\n",
    "* To check if a character appears in the string use “in” operator. The following example from Section 8.9, textbook “Think Python,” prints all the letters from “word1” that also appear in “word2.”\n",
    "\n",
    "```\n",
    "for letter in word1:\n",
    "    if letter in word2:\n",
    "        print(letter)\n",
    "```\n",
    "#### Note: that the keyword “in” has different meaning in the two statements:\n",
    "* In statement “for letter in word1” the keyword “in” means that the variable “letter” will take (in sequence) the value of each character in the string “word1”.\n",
    "* The statement “letter in word2” evaluates “True” if the character “letter” appears in the string “word2.” If the statement evaluates “True” then the “print” statement is executed."
   ]
  },
  {
   "cell_type": "code",
   "execution_count": 10,
   "metadata": {},
   "outputs": [
    {
     "name": "stdout",
     "output_type": "stream",
     "text": [
      "This program calculates the number of vowels and consonants in a string.\n",
      "Enter a word or sentence: The morning ripens slowly.\n",
      "The number of vowels in the string is: 6\n",
      "The number of consonants in the string is: 17\n"
     ]
    }
   ],
   "source": [
    "# Input: User inputs a string of characters.\n",
    "# Output: Program prints the count of vowels and consonants in the string.\n",
    "\n",
    "# Need to strip out the whitespace for sentences\n",
    "\n",
    "def letter_count():\n",
    "    print(\"This program calculates the number of vowels and consonants in a string.\")\n",
    "    string = input(\"Enter a word or sentence: \").lower().replace(\" \", \"\")\n",
    "    n = len(string)\n",
    "    count = 0\n",
    "    for letter in string:\n",
    "        if (letter in ['a', 'e', 'i', 'o', 'u']):\n",
    "            count = count + 1\n",
    "    print(\"The number of vowels in the string is:\", count)\n",
    "    print(\"The number of consonants in the string is:\", n-count)\n",
    "\n",
    "letter_count()"
   ]
  },
  {
   "cell_type": "code",
   "execution_count": null,
   "metadata": {
    "collapsed": true
   },
   "outputs": [],
   "source": []
  },
  {
   "cell_type": "code",
   "execution_count": null,
   "metadata": {
    "collapsed": true
   },
   "outputs": [],
   "source": []
  },
  {
   "cell_type": "code",
   "execution_count": null,
   "metadata": {
    "collapsed": true
   },
   "outputs": [],
   "source": []
  }
 ],
 "metadata": {
  "kernelspec": {
   "display_name": "Python 3",
   "language": "python",
   "name": "python3"
  },
  "language_info": {
   "codemirror_mode": {
    "name": "ipython",
    "version": 3
   },
   "file_extension": ".py",
   "mimetype": "text/x-python",
   "name": "python",
   "nbconvert_exporter": "python",
   "pygments_lexer": "ipython3",
   "version": "3.6.1"
  }
 },
 "nbformat": 4,
 "nbformat_minor": 2
}
