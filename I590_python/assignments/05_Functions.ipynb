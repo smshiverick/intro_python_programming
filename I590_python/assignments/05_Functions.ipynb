{
 "cells": [
  {
   "cell_type": "markdown",
   "metadata": {},
   "source": [
    "### I590: Python - Professor Vel Malbasa (Spring 2017) \n",
    "\n",
    "### Assignment 4: Lists and Strings\n",
    "#### Sean Shiverick  Feb 4 2017\n",
    "\n",
    "In each question implement:\n",
    "* Required function (or functions)\n",
    "* Function main() which demonstrates the use of your function(s).\n",
    "\n",
    "Function main() should prepare the arguments, call your function(s) and print the result. For example, in Question 1, you should follow code structure below.\n",
    "```\n",
    "# Header\n",
    "def wordCount( inFile )\n",
    "    # Your code here\n",
    "\n",
    "def main()\n",
    "    # Your code here\n",
    "    numWords = wordCount( inFile )\n",
    "    # print output\n",
    "main()\n",
    "```\n",
    "### Question 1 (20 points) Write a function wordCount(inFile) that reads a file, counts the number of words in the file and returns the final word count.\n",
    "* Input: Input to the function wordCount() is the file object inFile, which corresponds to the file which is open for reading.\n",
    "* Output: Total word count in the file which corresponds to the file object inFile.\n",
    "\n",
    "Function main():\n",
    "* Prompts the user for the name of the input file\n",
    "* Opens the file\n",
    "* Calls the function wordCount(inFile) with the file object which corresponds to the file\n",
    "* Prints the result received from the function wordCount(inFile)\n",
    "* Closes the file\n",
    "```\n",
    "Example:\n",
    "Enter a file name: Twinkle.txt\n",
    "The number of words in the file is 22\n",
    "```\n",
    "Please download twinkle.txt from the below:\n",
    "Twinkle.txt"
   ]
  },
  {
   "cell_type": "code",
   "execution_count": 2,
   "metadata": {},
   "outputs": [
    {
     "name": "stdout",
     "output_type": "stream",
     "text": [
      "Enter a file name: tale.txt\n",
      "The number of words in the file is 138883\n"
     ]
    }
   ],
   "source": [
    "# wordCount.py\n",
    "\n",
    "def wordCount(inFile):\n",
    "    # reads a file as a list of strings\n",
    "    words = inFile.read().split()\n",
    "    # length of list as counts of the number of words in file\n",
    "    count = len(words)\n",
    "    # returns final word count.\n",
    "    return count\n",
    "   \n",
    "def main():\n",
    "    # get the file name\n",
    "    fname = input(\"Enter a file name: \") \n",
    "    # open the file\n",
    "    inFile = open(fname, 'r')\n",
    "    # call function wordCount with file object \n",
    "    numWords = wordCount(inFile)\n",
    "    # prints result from wordCount(inFile)\n",
    "    print(\"The number of words in the file is\", numWords)\n",
    "     # close the file\n",
    "    inFile.close()\n",
    "\n",
    "main()"
   ]
  },
  {
   "cell_type": "markdown",
   "metadata": {},
   "source": [
    "### Question 2 (20 points) Write a function squareEach(nums) which squares each number in the input list of integers.\n",
    "* Input: Input to the function squareEach(nums) is a list nums of integers.\n",
    "* Output: Function squareEach(nums) does not return a result, rather it updates the input list as a side effect!\n",
    "\n",
    "Function main():\n",
    "* Prompts the user for the input list of integers, separated by spaces\n",
    "* Converts the input list of strings into a list of integers\n",
    "* Calls function squareEach(nums) with the argument which is the list of integers\n",
    "* Prints the list of integers which is updated by function squareEach(nums) as a side effect\n",
    "```\n",
    "Example:\n",
    "Enter numbers separated by space: 1 3 5 7\n",
    "Squares of the input numbers are:\n",
    "1 9 25 49\n",
    "```"
   ]
  },
  {
   "cell_type": "code",
   "execution_count": 3,
   "metadata": {},
   "outputs": [
    {
     "name": "stdout",
     "output_type": "stream",
     "text": [
      "Enter numbers separated by space: 1 3 5 7\n",
      "Squares of the input numbers are:\n",
      "1\n",
      "9\n",
      "25\n",
      "49\n"
     ]
    }
   ],
   "source": [
    "# squareEach.py\n",
    "\n",
    "def squareEach(nums):\n",
    "    # loop through list, square elements of list\n",
    "    for i in range(len(nums)):\n",
    "        nums[i] = nums[i] * nums[i]\n",
    "    return nums\n",
    "       \n",
    "def main():\n",
    "    # prompt for input list of integers, separated by spaces\n",
    "    numstr = input(\"Enter numbers separated by space: \")\n",
    "    # convert input list of strings to list of integers\n",
    "    nums = list(map(int, numstr.split(\" \")))\n",
    "    # calls function with list of integers as argument \n",
    "    squareEach(nums)\n",
    "    # Prints list of integers updated by function as side effect\n",
    "    print(\"Squares of the input numbers are:\")\n",
    "    for i in nums:\n",
    "        print(i)\n",
    "\n",
    "main()"
   ]
  },
  {
   "cell_type": "markdown",
   "metadata": {},
   "source": [
    "### Question 3 (20 points) \n",
    "In Assignment 3, question 3.2, you implemented a function which calculates the number of combinations of n objects, taken r objects at a time. In the solution you had to duplicate the code for factorial.\n",
    "\n",
    "### Write function factorial(n) that calculates the factorial of a positive integer n, and write main() function which uses function factorial(n) to calculate the number of combinations of n objects, taken r objects at a time.\n",
    "* Input: Input to function factorial(n) is a positive integer n > 1.\n",
    "* Output: Function factorial(n) returns the factorial of n.\n",
    "\n",
    "Function main():\n",
    "* Prompts the user for positive integers n and r\n",
    "* Calls function factorial(n) to calculate number of combinations as C = n!/(r! ∙ (n-r)!)\n",
    "* Prints the number of combinations C\n",
    "\n",
    "```\n",
    "Example:\n",
    "Enter a positive integer n = 5\n",
    "Enter a positive integer r = 2\n",
    "Number of combinations C( 5 , 2 ) = 10.0\n",
    "```"
   ]
  },
  {
   "cell_type": "code",
   "execution_count": 4,
   "metadata": {},
   "outputs": [
    {
     "name": "stdout",
     "output_type": "stream",
     "text": [
      "Enter a positive integer n: 5\n",
      "Enter a positive integer r: 2\n",
      "The number of combinations C( 5 , 2 ) = 10.0\n"
     ]
    }
   ],
   "source": [
    "# factorial.py\n",
    "# Input: Input to function factorial(n) is a positive integer n > 1.\n",
    "# Output: Function factorial(n) returns the factorial of n.\n",
    "\n",
    "def factorial(n):\n",
    "    fact = 1\n",
    "    for x in range(n, 1, -1):\n",
    "        fact = fact * x\n",
    "    return fact\n",
    "    \n",
    "def main():\n",
    "    # Prompts the user for positive integers n and r\n",
    "    n = eval(input(\"Enter a positive integer n: \"))\n",
    "    r = eval(input(\"Enter a positive integer r: \"))\n",
    "    \n",
    "    # Calls function factorial(n) to \n",
    "    fact_n = factorial(n)\n",
    "    fact_r = factorial(r)\n",
    "    fact_nr = factorial(n-r)\n",
    "    \n",
    "    # calculate number of combinations\n",
    "    C = fact_n / (fact_r * fact_nr) \n",
    "    \n",
    "    # Prints the number of combinations C\n",
    "    print(\"The number of combinations C(\", n,\",\", r,\") =\", C)\n",
    "    \n",
    "main()"
   ]
  },
  {
   "cell_type": "markdown",
   "metadata": {},
   "source": [
    "### Question 4 (20 points) Write a function isPrime(n) which takes a positive integer as an input parameter and returns 1 if it is a prime number and 0 otherwise.\n",
    "Prime numbers are the positive integers, greater than 1, which are divisible only by 1 and self. First few prime numbers are: 2, 3, 5, 7, 11 …\n",
    "* Input: Input to the function isPrime(n) is a positive integer n > 1.\n",
    "* Output: Function isPrime(n) returns 1 if n is a prime number, and 0 otherwise.\n",
    "\n",
    "Function main():\n",
    "• Prompts the user for a positive integer n greater than 1\n",
    "• Calls function isPrime(n)\n",
    "• Prints if n is a prime number or not\n",
    "```\n",
    "Example:\n",
    "Enter a positive integer: 4\n",
    "Number 4 is not a prime number\n",
    "```\n",
    "### Hint:\n",
    "* Sometimes, you must terminate your loop abruptly. In that case, we use “break” statement. It terminates the current loop and resumes execution at the next statement, just like the traditional break statement in C, Java, C++.\n",
    "* The most common use for break is when some external condition is triggered requiring a hasty exit from a loop. The break statement can be used in both while and for loops.\n",
    "* If you are using nested loops, the break statement stops the execution of the innermost loop and start executing the next line of code after the block.\n",
    "\n",
    "For example, the following loop terminates in case remainder is equal to 0:\n",
    "```\n",
    "for i in range(2,n)\n",
    "    if(n % i == 0)\n",
    "        break\n",
    "```"
   ]
  },
  {
   "cell_type": "code",
   "execution_count": 8,
   "metadata": {},
   "outputs": [
    {
     "name": "stdout",
     "output_type": "stream",
     "text": [
      "Enter a positive integer: 7\n",
      "Number 7 is a prime number.\n"
     ]
    }
   ],
   "source": [
    "# isPrime.py\n",
    "# Input: Input to the function is a positive integer n > 1.\n",
    "# Output: Function returns 1 if n is a prime number, and 0 otherwise.\n",
    "\n",
    "def isPrime(n):\n",
    "    for i in range(2,n): \n",
    "        if n % i == 0:\n",
    "            return False\n",
    "    return True\n",
    "\n",
    "def main():\n",
    "    # Prompts the user for positive integer n greater than 1\n",
    "    n = eval(input(\"Enter a positive integer: \"))\n",
    "    # Calls function isPrime(n)\n",
    "    prime = isPrime(n)\n",
    "    # Prints if n is a prime number or not\n",
    "    if prime == False:\n",
    "        print(\"Number\", n, \"is not a prime number.\")\n",
    "    else:\n",
    "        print(\"Number\", n, \"is a prime number.\")\n",
    "\n",
    "main()"
   ]
  },
  {
   "cell_type": "markdown",
   "metadata": {},
   "source": [
    "### Question 5 (20 points) Write a function printPrime(lowerLimit, upperLimit) which prints all prime numbers between lowerLimit and upperLimit using a single loop. \n",
    "Function printPrime should call function isPrime(n) to determine if number n is a prime number. Your program should include functions printPrime, isPrime and main.\n",
    "\n",
    "See Question 4 for the specification and reuse function isPrime.\n",
    "* Input to function printPrime: positive integers lowerLimit and upperLimit, where upperLimit > lowerLimit > 1.\n",
    "* Output: Function printPrime prints all prime numbers between lowerLimit and upperLimit.\n",
    "\n",
    "Function main:\n",
    "* Prompts the user for positive integers lowerLimit and upperLimit\n",
    "* Calls function printPrime(lowerLimit, upperLimit)\n",
    "\n",
    "```\n",
    "Example:\n",
    "Enter the lower limit of a range: 2\n",
    "Enter the upper limit of the range: 11\n",
    "The sequence of prime numbers in the given range:\n",
    "2\n",
    "3\n",
    "5\n",
    "7\n",
    "```"
   ]
  },
  {
   "cell_type": "code",
   "execution_count": 9,
   "metadata": {},
   "outputs": [
    {
     "name": "stdout",
     "output_type": "stream",
     "text": [
      "Enter the lower limit of a range: 2\n",
      "Enter the upper limit of a range: 11\n",
      "The sequence of prime numbers in the given range:\n",
      "2\n",
      "3\n",
      "5\n",
      "7\n"
     ]
    }
   ],
   "source": [
    "# printPrime.py \n",
    "# Input to function printPrime: Positive integers lowerLimit and upperLimit, \n",
    "# where upperLimit > lowerLimit > 1.\n",
    "# Output: Function printPrime prints all prime numbers between lowerLimit and upperLimit.\n",
    "\n",
    "def isPrime(n):\n",
    "    for i in range(2,n): \n",
    "        if n % i == 0:\n",
    "            return \n",
    "    return n\n",
    "\n",
    "def printPrime(lowerLimit, upperLimit):\n",
    "    listPrime = [ ]\n",
    "    for i in range(lowerLimit, upperLimit): \n",
    "        listPrime.append(isPrime(i))\n",
    "    \n",
    "    return listPrime\n",
    "\n",
    "def main():\n",
    "    # Prompts the user for positive integer n greater than 1\n",
    "    lower = eval(input(\"Enter the lower limit of a range: \"))\n",
    "    upper = eval(input(\"Enter the upper limit of a range: \"))\n",
    "    # Calls function isPrime(n)\n",
    "    primes = printPrime(lower, upper)\n",
    "    primes = filter(None, primes)\n",
    "    # Prints sequence of prime number in the range of input values\n",
    "    print(\"The sequence of prime numbers in the given range:\")\n",
    "    for i in primes:\n",
    "        print(i)\n",
    "\n",
    "main()"
   ]
  },
  {
   "cell_type": "markdown",
   "metadata": {},
   "source": [
    "### Deliverables \n",
    "(Change in deliverables compare to previous assignments. Please read it again)\n",
    "* For each of the questions, you should make ‘main()’ function. \n",
    "* From ‘main()’ function, you should call all other functions. \n",
    "* For example, in Question 2, you should follow below code structure.\n",
    "\n",
    "```\n",
    "def squareEach(nums):\n",
    "    //your code\n",
    "    return nums\n",
    "\n",
    "def main():\n",
    "    //your code\n",
    "    modified_list = squreEach(numbers)\n",
    "    //your code\n",
    "main()\n",
    "```"
   ]
  }
 ],
 "metadata": {
  "kernelspec": {
   "display_name": "Python 3",
   "language": "python",
   "name": "python3"
  },
  "language_info": {
   "codemirror_mode": {
    "name": "ipython",
    "version": 3
   },
   "file_extension": ".py",
   "mimetype": "text/x-python",
   "name": "python",
   "nbconvert_exporter": "python",
   "pygments_lexer": "ipython3",
   "version": "3.6.1"
  }
 },
 "nbformat": 4,
 "nbformat_minor": 2
}
