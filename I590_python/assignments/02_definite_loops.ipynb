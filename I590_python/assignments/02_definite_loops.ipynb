{
 "cells": [
  {
   "cell_type": "markdown",
   "metadata": {},
   "source": [
    "### I590: Python - Instructor Vel Malbasa (Spring 2017) \n",
    "\n",
    "### Assignment 2: Sean Shiverick\n",
    "Fri Jan 20 14:50:08 2017\n",
    "\n",
    "### Question 1 (25 points)\n",
    "In lecture unit 2.3, we presented function “convert.py” that converts Celsius temperature into Fahrenheit. Modify the “convert.py” program so that it computes and prints a table of Celsius temperatures and the Fahrenheit equivalents every 10 degrees from 0C to 100C.\n",
    "* Input: N/A\n",
    "* Output: Print a table of Celsius temperatures and the Fahrenheit equivalents every 10 degrees from 0C to 100C."
   ]
  },
  {
   "cell_type": "code",
   "execution_count": 3,
   "metadata": {},
   "outputs": [
    {
     "name": "stdout",
     "output_type": "stream",
     "text": [
      "Celcius  Fahrenheit\n",
      "-------------------\n",
      "0         32.0\n",
      "10         50.0\n",
      "20         68.0\n",
      "30         86.0\n",
      "40         104.0\n",
      "50         122.0\n",
      "60         140.0\n",
      "70         158.0\n",
      "80         176.0\n",
      "90         194.0\n",
      "100         212.0\n",
      "-------------------\n"
     ]
    }
   ],
   "source": [
    "# convert2.py program converts temperature in Celcius to Fahrenheit\n",
    "# Print table of Celsius and Fahrenheit every 10 degrees from 0C to 100C\n",
    "\n",
    "def main():\n",
    "    c = [0, 10, 20, 30, 40, 50, 60, 70, 80, 90, 100]\n",
    "    print(\"Celcius  Fahrenheit\")\n",
    "    print(\"-------------------\")\n",
    "    for i in c:\n",
    "        print(i, \"       \", ((9/5) * i) + 32)\n",
    "    print(\"-------------------\")\n",
    "\n",
    "main()"
   ]
  },
  {
   "cell_type": "markdown",
   "metadata": {},
   "source": [
    "### Question 2 (25 points)\n",
    "Write an interactive Python calculator program. The program should allow the user to type a mathematical expression, and then print the value of the expression. Include a loop so that the user can perform many calculations (say, up to 100).\n",
    "\n",
    "Note: to quit early, the user can make the program crash by typing a bad expression or simply closing the window that the calculator program is running in. You’ll learn better ways of terminating interactive programs in later modules.\n",
    "* Input: Mathematical expression\n",
    "* Output: Value of this mathematical expression (any integer or decimal number).\n",
    "\n",
    "#### Hint: This problem should be easy to implement by using function eval(). \n",
    "The built-in function eval() takes a string and evaluates it using the Python interpreter. \n",
    "You may want to use input() function to provide to eval() the expression typed by the user.\n",
    "```eval(\"5\")\n",
    "Out[63]: 5\n",
    "eval('2 + 3*5')\n",
    "Out[64]: 17\n",
    "eval(' 2 * (3 + 5)')\n",
    "Out[65]: 16\n",
    "```\n",
    "You may want to use input() function to provide to eval() the expression typed by the user."
   ]
  },
  {
   "cell_type": "code",
   "execution_count": 5,
   "metadata": {},
   "outputs": [
    {
     "name": "stdout",
     "output_type": "stream",
     "text": [
      "Welcome to the Interactive Python Calculator.\n",
      "Enter new expression here:2\n",
      "2\n",
      "Enter new expression here:3\n",
      "3\n",
      "Enter new expression here:\n"
     ]
    },
    {
     "ename": "SyntaxError",
     "evalue": "unexpected EOF while parsing (<string>, line 0)",
     "output_type": "error",
     "traceback": [
      "\u001b[0;36m  File \u001b[0;32m\"<string>\"\u001b[0;36m, line \u001b[0;32munknown\u001b[0m\n\u001b[0;31m    \u001b[0m\n\u001b[0m    ^\u001b[0m\n\u001b[0;31mSyntaxError\u001b[0m\u001b[0;31m:\u001b[0m unexpected EOF while parsing\n"
     ]
    }
   ],
   "source": [
    "# math_calc() program takes mathematical expression as argument (parameter) \n",
    "# then prints the value of the expression. \n",
    "# Include a loop so user can perform many calculations (up to 100).\n",
    "\n",
    "def py_calc():\n",
    "    print(\"Welcome to the Interactive Python Calculator.\")\n",
    "    for i in range(100):\n",
    "        expr = eval(input(\"Enter new expression here:\"))\n",
    "        print(expr)\n",
    "    \n",
    "py_calc()"
   ]
  },
  {
   "cell_type": "markdown",
   "metadata": {},
   "source": [
    "### Question 3 (25 points)\n",
    "Write a program that prompts a user for a sequence of numbers and prints out an average of these numbers. When user hits the ‘enter’ key, the program will stop taking inputs from the user.\n",
    "* Note: Your program should not use any built-in Python packages like mean(), avg(), average() etc. to compute an average\n",
    "* Input: List of integers\n",
    "* Output: Average of input numbers\n",
    "\n",
    "Hints:\n",
    "1.\tFollowing statement reads user entered space separated numbers:\n",
    "2.\tUse int() function to convert the strings to numbers:\n",
    "3.\tUse function len() to count the number of elements in the list. For an example, \n",
    "4.\tTo add up all numbers in a list named “myList”, you can use a loop like this:\n",
    "```\n",
    "sum = 0\n",
    "for x in myList:\n",
    "sum = sum + x\n",
    "```"
   ]
  },
  {
   "cell_type": "code",
   "execution_count": 6,
   "metadata": {},
   "outputs": [
    {
     "name": "stdout",
     "output_type": "stream",
     "text": [
      "Enter numbers separated by a space: 2 3 4 5 6 7\n",
      "Average of input numbers is: 4.5\n"
     ]
    }
   ],
   "source": [
    "# Program prompts user for a sequence of numbers\n",
    "# then prints out an average of these numbers. \n",
    "# When user hits ‘enter’ key, program will stop taking inputs from user.\n",
    "\n",
    "def calc_average():\n",
    "    numbers = input(\"Enter numbers separated by a space: \").split(sep=\" \")\n",
    "    numbers = list(map(int, numbers))\n",
    "    count_all = len(numbers)\n",
    "    add_all = 0\n",
    "    for i in numbers:\n",
    "        add_all = add_all + i\n",
    "    average = add_all / count_all\n",
    "    print(\"Average of input numbers is:\", average)\n",
    "\n",
    "calc_average() "
   ]
  },
  {
   "cell_type": "markdown",
   "metadata": {},
   "source": [
    "### Hints:\n",
    "1. Use the following statement to read user entered space separated numbers:\n",
    "input(\"Enter numbers separated by a space: \").split(sep=\" \")\n",
    "The statement first calls the function ‘input’ which will keep reading user inputs and then split is executed and it will give a list after splitting the input string by space.\n",
    "Example:\n",
    "```\n",
    "input(\"Enter numbers separated by a space: \").split(sep=\" \")\n",
    "Enter numbers separated by a space: 2 5 11 3\n",
    "Out[67]: ['2', '5', '11', '3']\n",
    "```\n",
    "Note that the statement will give a list containing user entered strings that represent numbers. The elements of the resulting list are strings that represent the numbers, and NOT the actual numbers.\n",
    "2. Use function int() to convert the strings to numbers:\n",
    "```\n",
    "int('2')\n",
    "Out[68]: 2\n",
    "```\n",
    "3. You may also use function len()to count the number of elements in the list. For an example, len([2,3,4]) gives value 3.\n",
    "\n",
    "4. To add up all numbers in a list named “myList”, you can use a loop like this:\n",
    "```\n",
    "sum = 0\n",
    "for x in myList:\n",
    "sum = sum + x\n",
    "```\n",
    "The variable sum is first initialized to 0. Each time through the loop, x gets one element from the list. As the loops runs, sum accumulates the sum of the elements. After the loop completes, the sum will contain the total sum of all numbers in myList."
   ]
  },
  {
   "cell_type": "markdown",
   "metadata": {},
   "source": [
    "### Question 4 (25 points)\n",
    "Write a program that converts distances measured in kilometers to miles. One kilometer is approximately 0.62 miles.\n",
    "* Input: Distance in kilometers (any integer or decimal value)\n",
    "* Output: Converted distance in miles (any integer or decimal value)."
   ]
  },
  {
   "cell_type": "code",
   "execution_count": 8,
   "metadata": {},
   "outputs": [
    {
     "name": "stdout",
     "output_type": "stream",
     "text": [
      "Enter the distance in kilometers:100\n",
      "The distance is 62.0 miles.\n"
     ]
    }
   ],
   "source": [
    "# Kmto_miles program converts distance in kilometers to miles. \n",
    "# One kilometer is approximately 0.62 miles.\n",
    "# Input: Distance in kilometers (any integer or decimal value)\n",
    "# Output: Converted distance in miles (any integer or decimal value).\n",
    "\n",
    "def kmto_miles():\n",
    "    km = eval(input(\"Enter the distance in kilometers:\"))\n",
    "    miles = km * 0.62\n",
    "    print(\"The distance is\", miles, \"miles.\")\n",
    "    \n",
    "kmto_miles()"
   ]
  },
  {
   "cell_type": "code",
   "execution_count": null,
   "metadata": {
    "collapsed": true
   },
   "outputs": [],
   "source": []
  }
 ],
 "metadata": {
  "kernelspec": {
   "display_name": "Python 3",
   "language": "python",
   "name": "python3"
  },
  "language_info": {
   "codemirror_mode": {
    "name": "ipython",
    "version": 3
   },
   "file_extension": ".py",
   "mimetype": "text/x-python",
   "name": "python",
   "nbconvert_exporter": "python",
   "pygments_lexer": "ipython3",
   "version": "3.6.1"
  }
 },
 "nbformat": 4,
 "nbformat_minor": 2
}
