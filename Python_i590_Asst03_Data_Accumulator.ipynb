{
 "cells": [
  {
   "cell_type": "markdown",
   "metadata": {},
   "source": [
    "### I590: Python - Instructor Vel Malbasa (Spring 2017) \n",
    "\n",
    "### Assignment 3: Numeric Data Type and Accumulator Pattern\n",
    "#### Sean Shiverick  Jan 29 2017\n",
    "\n",
    "### Question 1 (20 points) \n",
    "Write a function which prompts the user two positive integers which define the values of a range. The function calculates and prints the ratio of the sum of even numbers to the sum of all the numbers in the range.\n",
    "* Input: Positive integers ‘start’ and ‘end’\n",
    "* Output: Ratio of sum of even numbers to the sum of all the numbers in the range defined by the numbers ‘start’ and ‘end’\n",
    "```\n",
    "Enter start number of the range: 2\n",
    "Enter end number of the range: 10\n",
    "Ratio of sum of even numbers to the sum of all the numbers in the range is: 0.5555555555555556\n",
    "```\n",
    "Explanation:\n",
    "- Let’s say we have the values of ‘start’ and ‘end’ as 2 and 10 respectively. So, numbers between 2 and 10 are 2 , 3, 4 , 5 , 6 , 7, 8, 9 , 10\n",
    "- The sum of even numbesr in the given range is : 2 + 4 + 6 + 8 + 10 = 30\n",
    "- Total sum of all the numbers is 54\n",
    "- Ratio of the sum of even numbers to the sum of all the numbers in this range is 30/54 = 0.555\n",
    "\n",
    "#### Hint: An even number divided by 2 leaves a remainder 0."
   ]
  },
  {
   "cell_type": "code",
   "execution_count": 1,
   "metadata": {},
   "outputs": [
    {
     "name": "stdout",
     "output_type": "stream",
     "text": [
      "This function calculates the ratio of the sum of even numbers to the sum of all numbers in the range.\n",
      "Please enter the start number of the range: 3\n",
      "Please enter the end number of the range: 12\n",
      "The ratio of the sum of even numbers to the sum of all numbers in range is: 0.4444444444444444\n"
     ]
    }
   ],
   "source": [
    "# Input: Positive integers ‘start’ and ‘end’\n",
    "# Output: Ratio of sum of even numbers to sum of all numbers in range \n",
    "# defined by numbers ‘start’ & ‘end’\n",
    "\n",
    "def ratioEvenAll():\n",
    "    sum_even = 0\n",
    "    sum_all = 0\n",
    "    print(\"This function calculates the ratio of the sum of even numbers to the sum of all numbers in the range.\")\n",
    "    s = eval(input(\"Please enter the start number of the range: \"))\n",
    "    n = eval(input(\"Please enter the end number of the range: \"))\n",
    "    for x in range(s, n):\n",
    "        sum_all = sum_all + 1\n",
    "        \n",
    "    for x in range(s, n):\n",
    "        if (x % 2) == 0:\n",
    "            sum_even = sum_even + 1\n",
    "        \n",
    "    ratio = sum_even / sum_all\n",
    "\n",
    "    print(\"The ratio of the sum of even numbers to the sum of all numbers in range is:\", ratio)\n",
    "    \n",
    "ratioEvenAll()"
   ]
  },
  {
   "cell_type": "markdown",
   "metadata": {},
   "source": [
    "### Question 2 (20 points)\n",
    "In Lecture 3.3, we learnt math library in Python. Let’s use a math library function to solve right-angled triangle.\n",
    "Pythagoras’ theorem: In a right-angled triangle the square of the hypotenuse is equal to the sum of the squares of the other two sides.\n",
    "\n",
    "#### Pythagoras’ Theorem - for right-angled triangle: \n",
    "* The square of hypotenuse is equal to sum of squares of the other two sides.\n",
    "* Theorem can be written as one short equation: a2 +  b2 = c2\n",
    "* c is longest side of triangle (hypotenuse); a and b the other two sides\n",
    "\n",
    "### 2.1 (10 points)  Write a function which takes two sides of a right-angled triangle and prints the longest side of the triangle.\n",
    "* Input: Two sides of a triangle (mixture of integers/ fractional number).\n",
    "* Output: Longest side of a right triangle.\n",
    "```\n",
    "Enter first side of triangle: 3\n",
    "Enter second side of triangle: 4\n",
    "The longest side of the triangle is: 5\n",
    "```\n",
    "\n",
    "#### Explanation: 𝑐 = sqrt (3^2 + 4^2) = 5\n",
    "* Sometimes we need to calculate unknown angle in a right-angle triangle. \n",
    "* If we know the length of its two sides, we can calculate the angle very easily."
   ]
  },
  {
   "cell_type": "code",
   "execution_count": 2,
   "metadata": {},
   "outputs": [
    {
     "name": "stdout",
     "output_type": "stream",
     "text": [
      "This function calculates longest side of right triangle given two sides.\n",
      "Please enter first side of the triangle: 3\n",
      "Please enter second side of the triangle: 4\n",
      "The longest side of the triangle is: 5.0\n"
     ]
    }
   ],
   "source": [
    "# Function takes two sides of right-angled triangle, prints longest side.\n",
    "# Input: Two sides of a triangle (mixture of integers/ fractional number).\n",
    "# Output: Longest side of a right triangle.\n",
    "\n",
    "import math\n",
    "\n",
    "def hypotenuseSide():\n",
    "    print(\"This function calculates longest side of right triangle given two sides.\")\n",
    "    adj = eval(input(\"Please enter first side of the triangle: \"))\n",
    "    opp = eval(input(\"Please enter second side of the triangle: \"))\n",
    "\n",
    "    longest = math.sqrt(adj**2 + opp**2)\n",
    "    print(\"The longest side of the triangle is:\", longest)\n",
    "\n",
    "hypotenuseSide()"
   ]
  },
  {
   "cell_type": "markdown",
   "metadata": {},
   "source": [
    "### 2.2 (10 points) Write a function which prompts for the two sides of a right triangle and prints the angle between them.\n",
    "\n",
    "You can go through the following tutorial to understand this concept better:\n",
    "https://www.mathsisfun.com/algebra/trig-finding-angle-right-triangle.html\n",
    "* Input: Two sides of a triangle, any positive integer of a floating point numbers.\n",
    "* Output: The angle between these two sides of triangle.\n",
    "\n",
    "```Example:\n",
    "Enter first side of triangle: 3\n",
    "Enter second side of triangle: 4\n",
    "The longest side of the triangle is: 5\n",
    "```\n",
    "#### Explanation:\n",
    "* sin(𝑥)= 𝑏/𝑐 = 2.5 / 5 = 0.5\n",
    "* 𝑥 = 𝑠in^−1*(0.5) = 30\n",
    "* Sin inverse (sin^-1) is nothing but asin(x) in math library."
   ]
  },
  {
   "cell_type": "code",
   "execution_count": 4,
   "metadata": {},
   "outputs": [
    {
     "name": "stdout",
     "output_type": "stream",
     "text": [
      "This function calculates acute angle (x) adjacent to longest side of right triangle.\n",
      "Enter side of the triangle opposite to the acute angle (x): 2.5\n",
      "Please enter longest side of the triangle: 5\n",
      "The acute angle of the triangle is: 29.999999999999996\n"
     ]
    }
   ],
   "source": [
    "# 2.2 function prompts for two sides of right triangle and prints angle between them.\n",
    "# Input: Two sides of a triangle, any positive integer of a floating point numbers.\n",
    "# Output: The angle between these two sides of triangle.\n",
    "# Sine inverse (sin-1) is asin(x) in math library.\n",
    "\n",
    "def hypotenuseAngle():\n",
    "    print(\"This function calculates acute angle (x) adjacent to longest side of right triangle.\")\n",
    "    opp = eval(input(\"Enter side of the triangle opposite to the acute angle (x): \"))\n",
    "    longest = eval(input(\"Please enter longest side of the triangle: \"))\n",
    "    sinx = opp/longest\n",
    "    radian = math.asin(sinx)\n",
    "    angle = math.degrees(radian)\n",
    "    print(\"The acute angle of the triangle is:\", angle)\n",
    "\n",
    "hypotenuseAngle()\n",
    "\n",
    "# Note: I followed the instruction correctly and obtained the value of opp/longest = 0.5; \n",
    "# however, the command math.asin(x) returned a value of 0.5235987755982988. \n",
    "# I could not find the error here.  "
   ]
  },
  {
   "cell_type": "markdown",
   "metadata": {},
   "source": [
    "### Question3 (15 pts)\n",
    "### 3.1 Write a function which takes integers n and r, and calculates and prints the number of permutations of n objects taken r at a time. \n",
    "Formula: Calculate the number of permutations:\n",
    "    𝑃 (𝑛 ,𝑟) = factorial(𝑛) / factorial(𝑛 − 𝑟)\n",
    "    \n",
    "* Input: Positive integers n and r\n",
    "* Output: Permutation of n taken r at a time.\n",
    "\n",
    "```\n",
    "Example:\n",
    "n = 4\n",
    "r = 2\n",
    "P(4, 2) = 12\n",
    "```"
   ]
  },
  {
   "cell_type": "code",
   "execution_count": 9,
   "metadata": {},
   "outputs": [
    {
     "name": "stdout",
     "output_type": "stream",
     "text": [
      "This function calculates the permutations of n objects, r at a time.\n",
      "Please enter number of objects (n): 4\n",
      "Please number of permutations (r): 2\n",
      "The factorial of 4 taken 2 at a time is 12.0\n"
     ]
    }
   ],
   "source": [
    "# 3.1 Function takes integers n, r, calculates and prints the number of permutations \n",
    "# of n objects taken r at a time:  P(n ,r)= factorial (n) / factorial(n-r)\n",
    "\n",
    "def factorial():\n",
    "    print(\"This function calculates the permutations of n objects, r at a time.\")\n",
    "    n = eval(input(\"Please enter number of objects (n): \"))\n",
    "    r = eval(input(\"Please number of permutations (r): \"))\n",
    "    factn = 1\n",
    "    for x in range(n, 1, -1):\n",
    "        factn = factn * x\n",
    "    \n",
    "    factn_r = 1\n",
    "    for z in range(n-r, 1, -1):\n",
    "        factn_r = factn_r * z\n",
    "    \n",
    "    fact = factn / factn_r\n",
    "        \n",
    "    print(\"The factorial of\", n, \"taken\", r,\"at a time is\", fact)\n",
    "\n",
    "factorial()"
   ]
  },
  {
   "cell_type": "markdown",
   "metadata": {},
   "source": [
    "### 3.2 (15 points) Write a function which takes integers n and r, and calculates and prints the number of combinations of n objects taken r at a time.\n",
    "* Input: Positive integers n and r\n",
    "* Output: Combination of n taken r at a time"
   ]
  },
  {
   "cell_type": "code",
   "execution_count": 10,
   "metadata": {},
   "outputs": [
    {
     "name": "stdout",
     "output_type": "stream",
     "text": [
      "This function calculates the number of permutations of n objects, r at a time.\n",
      "Please enter number of objects (n): 4\n",
      "Please number of permutations (r): 2\n",
      "The number of combinations of 4 taken 2 at a time is: 6.0\n"
     ]
    }
   ],
   "source": [
    "# 3.2 Function which takes integers n and r; calculates, prints number of \n",
    "# combinations of n objects taken r at a time.\n",
    "\n",
    "def factorial():\n",
    "    print(\"This function calculates the number of permutations of n objects, r at a time.\")\n",
    "    n = eval(input(\"Please enter number of objects (n): \"))\n",
    "    r = eval(input(\"Please number of permutations (r): \"))\n",
    "    factn = 1\n",
    "    for x in range(n, 1, -1):\n",
    "        factn = factn * x\n",
    "    factn_r = 1\n",
    "    for y in range(n-r, 1, -1):\n",
    "        factn_r = factn_r * y\n",
    "    factr = 1\n",
    "    for z in range(r, 1, -1):\n",
    "        factr = factr * r\n",
    "    fact = factn / (factn_r * factr) \n",
    "    print(\"The number of combinations of\", n, \"taken\", r,\"at a time is:\", fact)\n",
    "\n",
    "factorial()"
   ]
  },
  {
   "cell_type": "markdown",
   "metadata": {},
   "source": [
    "### Question 4 (30 points)\n",
    "A Fibonacci sequence is a sequence of numbers where each successive number is the sum of the previous two. The classic Fibonacci sequence produces: 1, 1, 2, 3, 5, 8, 13, . . .\n",
    "\n",
    "### 3.2 (15 points) Write a program that computes and prints the nth Fibonacci number, where n is a positive integer typed in by the user.\n",
    "* Input: Value of n (any positive integer)\n",
    "* Output: Respective nth Fibonacci number (any positive integer)\n",
    "```\n",
    "Example:\n",
    "Enter a positive integer: 7\n",
    "7th Fibonacci number is: 13\n",
    "```"
   ]
  },
  {
   "cell_type": "code",
   "execution_count": 11,
   "metadata": {},
   "outputs": [
    {
     "name": "stdout",
     "output_type": "stream",
     "text": [
      "This function prints the nth number in a Fibonacci sequence.\n",
      "Please enter a positive integer (n): 9\n",
      "The 9 th Fibonacci number is: 34\n"
     ]
    }
   ],
   "source": [
    "# Program computes, prints nth Fibonacci number; n is pos. integer typed in by user.\n",
    "# Input: Value of n (any positive integer)\n",
    "# Output: Respective nth Fibonacci number (any positive integer)\n",
    "\n",
    "def nth_fibo():\n",
    "    print(\"This function prints the nth number in a Fibonacci sequence.\") \n",
    "    n = eval(input(\"Please enter a positive integer (n): \"))\n",
    "    if n == 0:\n",
    "        print(\"The\", n,\"th Fibonacci number is:\", n)\n",
    "    else:\n",
    "        a, b = 0, 1\n",
    "        for i in range(n):\n",
    "            a, b = b, a+b\n",
    "        print(\"The\", n,\"th Fibonacci number is:\", a)\n",
    "\n",
    "nth_fibo()"
   ]
  },
  {
   "cell_type": "code",
   "execution_count": null,
   "metadata": {
    "collapsed": true
   },
   "outputs": [],
   "source": []
  }
 ],
 "metadata": {
  "kernelspec": {
   "display_name": "Python 3",
   "language": "python",
   "name": "python3"
  },
  "language_info": {
   "codemirror_mode": {
    "name": "ipython",
    "version": 3
   },
   "file_extension": ".py",
   "mimetype": "text/x-python",
   "name": "python",
   "nbconvert_exporter": "python",
   "pygments_lexer": "ipython3",
   "version": "3.6.1"
  }
 },
 "nbformat": 4,
 "nbformat_minor": 2
}
