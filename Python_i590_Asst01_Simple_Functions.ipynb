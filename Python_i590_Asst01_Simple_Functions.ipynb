{
 "cells": [
  {
   "cell_type": "markdown",
   "metadata": {},
   "source": [
    "### I590: Python - Instructor Vel Malbasa (Spring 2017) \n",
    "\n",
    "### Assignment 1: Sean Shiverick\n",
    "Jan 15 2017\n",
    "\n",
    "### Question 1 (10 points)\n",
    "Install Anaconda and submit a screenshot of Spyder interpreter that is installed in your system. Hint: You may use PRINTSCREEN key on your keyboard to take a screenshot.\n",
    "\n",
    "### Question 2 (60 points)\n",
    "In lecture 1.6, we have learned the function definition. For example, we can define a function:\n",
    "```\n",
    "def hello():\n",
    "print(\"Hello!\")\n",
    "print(\"This is fun!\")\n",
    "```\n",
    "When this function is called, the following output would be printed:\n",
    "```\n",
    "Hello!\n",
    "This is fun!\n",
    "```\n",
    "On slide 7, lecture 1.6, there is an example of a function with an input parameter (argument). Using the similar patterns, give function definitions for the following tasks.\n",
    "\n",
    "### 2.1 measureCircleArea(radius)\n",
    "The function should calculate and print the area of a circle. Radius is passed as input parameter. Area of circle is 𝜋𝜋𝑟𝑟2, where r is radius and 𝜋𝜋 is a constant which has the value 3.14."
   ]
  },
  {
   "cell_type": "code",
   "execution_count": 1,
   "metadata": {},
   "outputs": [
    {
     "name": "stdout",
     "output_type": "stream",
     "text": [
      "28.26\n"
     ]
    }
   ],
   "source": [
    "pi = 3.14\n",
    "\n",
    "def circle_area(r):\n",
    "    a = (pi*(r**2))\n",
    "    print(a)\n",
    "\n",
    "circle_area(3)"
   ]
  },
  {
   "cell_type": "markdown",
   "metadata": {},
   "source": [
    "### 2.2 computeAverage()\n",
    "This function should print the average of numbers ‘10’, ‘20’, ‘30’ and ‘40’."
   ]
  },
  {
   "cell_type": "code",
   "execution_count": 2,
   "metadata": {},
   "outputs": [
    {
     "name": "stdout",
     "output_type": "stream",
     "text": [
      "25.0\n"
     ]
    }
   ],
   "source": [
    "numbers = [10, 20, 30, 40]\n",
    "\n",
    "def calc_average(numbers):\n",
    "    add_all = sum(numbers) \n",
    "    count_all = float(len(numbers)) \n",
    "    average = add_all / count_all\n",
    "    print(average)\n",
    "\n",
    "calc_average(numbers) "
   ]
  },
  {
   "cell_type": "markdown",
   "metadata": {},
   "source": [
    "### 2.3 kilometersToMiles(km)\n",
    "The function should convert distances measured in kilometers to miles and print the distance in miles. Value of distance in kilometers is passed as input parameter to function. One kilometer is approximately 0.62 miles."
   ]
  },
  {
   "cell_type": "code",
   "execution_count": 3,
   "metadata": {},
   "outputs": [
    {
     "name": "stdout",
     "output_type": "stream",
     "text": [
      "57.04\n"
     ]
    }
   ],
   "source": [
    "def kmto_miles(km):\n",
    "    miles = km * 0.62\n",
    "    print(miles)\n",
    "    \n",
    "kmto_miles(92)\n"
   ]
  },
  {
   "cell_type": "markdown",
   "metadata": {},
   "source": [
    "### 2.4 measureSquareArea(side)\n",
    "* The function should compute and print the area of a square. \n",
    "* The length of the square side is passed as an input parameter. \n",
    "* Area of the square is a2 where a is the length of side of square."
   ]
  },
  {
   "cell_type": "code",
   "execution_count": 4,
   "metadata": {},
   "outputs": [
    {
     "name": "stdout",
     "output_type": "stream",
     "text": [
      "169\n"
     ]
    }
   ],
   "source": [
    "def square_area(side):\n",
    "    area = side**2\n",
    "    print(area)\n",
    "    \n",
    "square_area(13)"
   ]
  },
  {
   "cell_type": "markdown",
   "metadata": {},
   "source": [
    "### Question 3 (30 points)\n",
    "In lecture 1.8, we have learned the “for” loop which is defined in following way.\n",
    "```\n",
    "def main():\n",
    "    for i in range(5):\n",
    "        print(i)\n",
    "```\n",
    "When this function is called, it will print the numbers from 0 to 4. Following the same pattern, give the function definitions using “for” loops for following tasks.\n",
    "\n",
    "### 3.1 firstFiveOddnumbers()\n",
    "The function should print the first five odd integers (1, 3, 5, 7, 9) using ‘for’ loop."
   ]
  },
  {
   "cell_type": "code",
   "execution_count": 5,
   "metadata": {},
   "outputs": [
    {
     "name": "stdout",
     "output_type": "stream",
     "text": [
      "1\n",
      "3\n",
      "5\n",
      "7\n",
      "9\n"
     ]
    }
   ],
   "source": [
    "def first_five_odd(n):\n",
    "    for i in range(n):\n",
    "        if i % 2 == 1:\n",
    "            print(i)\n",
    "\n",
    "first_five_odd(10)"
   ]
  },
  {
   "cell_type": "markdown",
   "metadata": {},
   "source": [
    "### 3.2 firstFiveNumberSum()\n",
    "This function should sum up the first five integers (1, 2, 3, 4, 5) using ‘for’ loop."
   ]
  },
  {
   "cell_type": "code",
   "execution_count": 7,
   "metadata": {},
   "outputs": [
    {
     "name": "stdout",
     "output_type": "stream",
     "text": [
      "15\n"
     ]
    }
   ],
   "source": [
    "def first_five_sum():\n",
    "    sum = 0\n",
    "    for i in range(1,6):\n",
    "        sum = sum + i\n",
    "    print(sum)\n",
    "    \n",
    "first_five_sum()"
   ]
  },
  {
   "cell_type": "markdown",
   "metadata": {},
   "source": [
    "### Example:\n",
    "Write a function firstFive() which prints the first five integers (1, 2, 3, 4, 5) using ‘for’ loop.\n",
    "Solution:\n",
    "```\n",
    "def firstFive():\n",
    "    for i in range (1,6):\n",
    "        print(i)\n",
    "```"
   ]
  }
 ],
 "metadata": {
  "kernelspec": {
   "display_name": "Python 3",
   "language": "python",
   "name": "python3"
  },
  "language_info": {
   "codemirror_mode": {
    "name": "ipython",
    "version": 3
   },
   "file_extension": ".py",
   "mimetype": "text/x-python",
   "name": "python",
   "nbconvert_exporter": "python",
   "pygments_lexer": "ipython3",
   "version": "3.6.1"
  }
 },
 "nbformat": 4,
 "nbformat_minor": 2
}
